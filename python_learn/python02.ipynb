{
 "cells": [
  {
   "cell_type": "markdown",
   "source": [
    "## 1.if语句"
   ],
   "metadata": {
    "collapsed": false
   },
   "id": "de0f02d8c7ebc56a"
  },
  {
   "cell_type": "code",
   "outputs": [],
   "source": [
    "# if\n",
    "age = 20\n",
    "if age >= 18:\n",
    "    print('your age is', age)\n",
    "    print('adult')\n",
    "    \n",
    "# if-else\n",
    "age = 3\n",
    "if age >= 18:\n",
    "    print('your age is', age)\n",
    "    print('adult')\n",
    "else:\n",
    "    print('your age is', age)\n",
    "    print('teenager')\n",
    "\n",
    "# if-elif-else  如果在某个判断上是True，把该判断对应的语句执行后，就忽略掉剩下的elif和else\n",
    "age = 3\n",
    "if age >= 18:\n",
    "    print('adult')\n",
    "elif age >= 6:\n",
    "    print('teenager')\n",
    "else:\n",
    "    print('kid')"
   ],
   "metadata": {
    "collapsed": false
   },
   "id": "f5c1fcae38e48f54"
  },
  {
   "cell_type": "markdown",
   "source": [
    "## 2.循环"
   ],
   "metadata": {
    "collapsed": false
   },
   "id": "f066873a084270e9"
  },
  {
   "cell_type": "code",
   "outputs": [
    {
     "name": "stdout",
     "output_type": "stream",
     "text": [
      "52\n"
     ]
    }
   ],
   "source": [
    "# for循环中，in后面通常跟列表、元组等结构\n",
    "\n",
    "sum = 0\n",
    "for x in [1, 2, 3, 4, 5, 6, 7, 8, 9, 10]:\n",
    "    if x == 3:\n",
    "        continue   # 跳出此次循环\n",
    "    sum = sum + x\n",
    "print(sum)"
   ],
   "metadata": {
    "collapsed": false,
    "ExecuteTime": {
     "end_time": "2024-11-17T13:26:00.087008Z",
     "start_time": "2024-11-17T13:26:00.070054Z"
    }
   },
   "id": "14192889c4e3d488",
   "execution_count": 4
  },
  {
   "cell_type": "code",
   "outputs": [
    {
     "name": "stdout",
     "output_type": "stream",
     "text": [
      "<class 'range'>\n",
      "0\n",
      "1\n",
      "2\n",
      "3\n",
      "4\n",
      "5\n",
      "6\n",
      "7\n",
      "8\n",
      "9\n",
      "5\n",
      "4\n",
      "3\n",
      "2\n",
      "1\n",
      "0\n"
     ]
    }
   ],
   "source": [
    "# 如果需要进行循环次数，可以用 range（）函数生成一个整数序列\n",
    "a = range(3)\n",
    "print(type(a))\n",
    "\n",
    "# range（x，y，stride）函数中有三个参数\n",
    "\n",
    "# 可以递增\n",
    "for x in range (0, 10, 1):  # 0-9\n",
    "    print(str(x))\n",
    "\n",
    "\n",
    "# 可以递减\n",
    "for x in range(5, -1, -1):  # 5-0\n",
    "    print(str(x))"
   ],
   "metadata": {
    "collapsed": false,
    "ExecuteTime": {
     "end_time": "2024-11-17T13:16:57.371845Z",
     "start_time": "2024-11-17T13:16:57.364864Z"
    }
   },
   "id": "baac716e993854ca",
   "execution_count": 2
  },
  {
   "cell_type": "code",
   "outputs": [
    {
     "name": "stdout",
     "output_type": "stream",
     "text": [
      "0 A\n",
      "1 B\n",
      "2 C\n"
     ]
    }
   ],
   "source": [
    "# 常用的：enumerate函数\n",
    "# 可以把一个list变成索引-元素对，这样就可以在for循环中同时迭代索引和元素本身\n",
    "for i, value in enumerate(['A', 'B', 'C']):\n",
    "     print(i, value)"
   ],
   "metadata": {
    "collapsed": false,
    "ExecuteTime": {
     "end_time": "2024-11-17T13:17:17.105448Z",
     "start_time": "2024-11-17T13:17:17.087913Z"
    }
   },
   "id": "20ee7ec55b12e3b8",
   "execution_count": 3
  },
  {
   "cell_type": "code",
   "outputs": [
    {
     "name": "stdout",
     "output_type": "stream",
     "text": [
      "2500\n"
     ]
    }
   ],
   "source": [
    "# while 循环\n",
    "sum = 0\n",
    "n = 99\n",
    "while n > 0:          # while后接循环条件\n",
    "    sum = sum + n\n",
    "    n = n - 2\n",
    "print(sum)"
   ],
   "metadata": {
    "collapsed": false,
    "ExecuteTime": {
     "end_time": "2024-11-17T13:27:24.123868Z",
     "start_time": "2024-11-17T13:27:24.118882Z"
    }
   },
   "id": "215a7795138e0e0",
   "execution_count": 5
  },
  {
   "cell_type": "code",
   "outputs": [
    {
     "name": "stdout",
     "output_type": "stream",
     "text": [
      "1\n",
      "2\n",
      "3\n",
      "4\n",
      "5\n",
      "6\n",
      "7\n",
      "8\n",
      "9\n",
      "10\n",
      "END\n"
     ]
    }
   ],
   "source": [
    "# 使用break结束循环\n",
    "n = 1\n",
    "while n <= 100:\n",
    "    if n > 10: # 当n = 11时，条件满足，执行break语句\n",
    "        break # break语句会结束当前循环\n",
    "    print(n)\n",
    "    n = n + 1\n",
    "print('END')"
   ],
   "metadata": {
    "collapsed": false,
    "ExecuteTime": {
     "end_time": "2024-11-17T13:27:24.522394Z",
     "start_time": "2024-11-17T13:27:24.503678Z"
    }
   },
   "id": "8e3a9fd808ab556b",
   "execution_count": 6
  },
  {
   "cell_type": "markdown",
   "source": [
    "## 函数"
   ],
   "metadata": {
    "collapsed": false
   },
   "id": "783c5b35053049c2"
  },
  {
   "cell_type": "code",
   "outputs": [
    {
     "name": "stdout",
     "output_type": "stream",
     "text": [
      "None\n",
      "1\n"
     ]
    }
   ],
   "source": [
    "# 如果想定义一个什么事也不做的空函数，可以用pass语句\n",
    "def nop():\n",
    "    pass\n",
    "\n",
    "# 定义一个函数要使用def语句，依次写出函数名、括号、括号中的参数和冒号:，然后，在缩进块中编写函数体，函数的返回值用return语句返回\n",
    "def a():\n",
    "    a = 1\n",
    "b = a()\n",
    "print(b)      # 没有return无返回值\n",
    "\n",
    "def a():\n",
    "    x = 1\n",
    "    return x\n",
    "b = a()\n",
    "print(b)   # 有return返回值"
   ],
   "metadata": {
    "collapsed": false,
    "ExecuteTime": {
     "end_time": "2024-11-17T13:28:25.018587Z",
     "start_time": "2024-11-17T13:28:25.001589Z"
    }
   },
   "id": "6131b16f1210fa7d",
   "execution_count": 7
  },
  {
   "cell_type": "code",
   "outputs": [
    {
     "name": "stdout",
     "output_type": "stream",
     "text": [
      "(2, 9)\n",
      "2 9\n",
      "2 9\n"
     ]
    }
   ],
   "source": [
    "def function(X,y,z):\n",
    "    theta = 2\n",
    "    l = 9\n",
    "    return theta,l       # 函数可以同时返回多个值，但其实就是一个元祖\n",
    "\n",
    "a = function(1,2,3)\n",
    "print(a)\n",
    "\n",
    "theta,l = function(1,2,3) # 变量储存返回值\n",
    "print(theta,l)\n",
    "\n",
    "a,b = function(2,4,6)       # 变量名随便设\n",
    "print(a,b)"
   ],
   "metadata": {
    "collapsed": false,
    "ExecuteTime": {
     "end_time": "2024-11-17T13:29:16.544315Z",
     "start_time": "2024-11-17T13:29:16.527335Z"
    }
   },
   "id": "39a38aba37a8fcdd",
   "execution_count": 8
  },
  {
   "cell_type": "markdown",
   "source": [
    "### 默认参数"
   ],
   "metadata": {
    "collapsed": false
   },
   "id": "34c6d466344c543e"
  },
  {
   "cell_type": "code",
   "outputs": [
    {
     "name": "stdout",
     "output_type": "stream",
     "text": [
      "25\n",
      "125\n"
     ]
    }
   ],
   "source": [
    "# 必选参数在前，默认参数在后\n",
    "def power(x, n=2):   # n=2为默认参数\n",
    "    s = 1\n",
    "    while n > 0:\n",
    "        n = n - 1\n",
    "        s = s * x\n",
    "    return s\n",
    "print(power(5))\n",
    "print(power(5, 3))  # 默认参数可以改变"
   ],
   "metadata": {
    "collapsed": false,
    "ExecuteTime": {
     "end_time": "2024-11-17T13:29:39.954721Z",
     "start_time": "2024-11-17T13:29:39.939761Z"
    }
   },
   "id": "14ba1b2d47ac0eac",
   "execution_count": 9
  },
  {
   "cell_type": "markdown",
   "source": [
    "### 可变参数 可变参数允许你传入0个或任意个参数，这些可变参数在函数调用时自动组装为一个元组\n"
   ],
   "metadata": {
    "collapsed": false
   },
   "id": "d14b8890e36550c2"
  },
  {
   "cell_type": "code",
   "outputs": [
    {
     "name": "stdout",
     "output_type": "stream",
     "text": [
      "0\n",
      "14\n"
     ]
    }
   ],
   "source": [
    "def calc(*numbers): # 在参数前面加了一个*号为可变参数\n",
    "    sum = 0\n",
    "    for n in numbers:\n",
    "        sum = sum + n * n\n",
    "    return sum\n",
    "print(calc())           # 0个参数,如果不是可变参数，这一行就会报错\n",
    "print(calc(1, 2, 3))    # 多个参数，这些参数会被自动组装起来"
   ],
   "metadata": {
    "collapsed": false,
    "ExecuteTime": {
     "end_time": "2024-11-17T13:31:23.615096Z",
     "start_time": "2024-11-17T13:31:23.601106Z"
    }
   },
   "id": "461106cf7dff088",
   "execution_count": 12
  },
  {
   "cell_type": "code",
   "outputs": [
    {
     "name": "stdout",
     "output_type": "stream",
     "text": [
      "14\n"
     ]
    }
   ],
   "source": [
    "# 不是可变参数的情况\n",
    "def calc(numbers): \n",
    "    sum = 0\n",
    "    for n in numbers:\n",
    "        sum = sum + n * n\n",
    "    return sum\n",
    "print(calc([1, 2, 3]))"
   ],
   "metadata": {
    "collapsed": false,
    "ExecuteTime": {
     "end_time": "2024-11-17T13:31:30.308818Z",
     "start_time": "2024-11-17T13:31:30.298846Z"
    }
   },
   "id": "3c82c61c2cec4aaf",
   "execution_count": 13
  },
  {
   "cell_type": "markdown",
   "source": [
    "### 关键字参数：关键字参数和可变参数用法一致，这些关键字参数在函数内部自动组装为一个dict"
   ],
   "metadata": {
    "collapsed": false
   },
   "id": "67ca85f8643cf08c"
  },
  {
   "cell_type": "code",
   "outputs": [
    {
     "name": "stdout",
     "output_type": "stream",
     "text": [
      "name: Adam age: 45 other: {'gender': 'M', 'job': 'Engineer'}\n"
     ]
    }
   ],
   "source": [
    "# 函数person除了必选参数name和age外，还接受关键字参数kw(是一个字典)\n",
    "def person(name, age, **kw):      # 两个*号就表示关键字参数\n",
    "    print('name:', name, 'age:', age, 'other:', kw)\n",
    "    \n",
    "person('Adam', 45, gender='M', job='Engineer')"
   ],
   "metadata": {
    "collapsed": false,
    "ExecuteTime": {
     "end_time": "2024-11-17T13:34:28.123572Z",
     "start_time": "2024-11-17T13:34:28.109610Z"
    }
   },
   "id": "88cd53979065958f",
   "execution_count": 16
  },
  {
   "cell_type": "code",
   "outputs": [
    {
     "name": "stdout",
     "output_type": "stream",
     "text": [
      "name: Adam age: 45 other: Engineer\n"
     ]
    }
   ],
   "source": [
    "def person(name, age, **kw):      # 两个*号就表示关键字参数\n",
    "    print('name:', name, 'age:', age, 'other:', kw[\"job\"])   # 指定关键字参数中的键\n",
    "    \n",
    "person('Adam', 45, gender='M', job='Engineer')\n"
   ],
   "metadata": {
    "collapsed": false,
    "ExecuteTime": {
     "end_time": "2024-11-17T13:35:08.612402Z",
     "start_time": "2024-11-17T13:35:08.608413Z"
    }
   },
   "id": "761ce146f174a483",
   "execution_count": 17
  },
  {
   "cell_type": "code",
   "outputs": [
    {
     "name": "stdout",
     "output_type": "stream",
     "text": [
      "Jack 24 Beijing Engineer\n"
     ]
    }
   ],
   "source": [
    "# 使用关键词参数主要是为了有时候方便，写代码后续需要加形参的情况下使用\n",
    "# 但也可以限制关键字参数的名字，一开始就命名好\n",
    "\n",
    "def person(name, age, *, city, job):   # 和关键字参数**kw不同，命名关键字参数需要一个特殊分隔符*，*后面的参数被视为命名关键字参数\n",
    "    print(name, age, city, job)   \n",
    "person('Jack', 24, city='Beijing', job='Engineer') # 命名关键字参数必须传入命名好的参数名。这里如果是c='Beijing', j='Engineer'会报错"
   ],
   "metadata": {
    "collapsed": false,
    "ExecuteTime": {
     "end_time": "2024-11-17T13:40:53.628380Z",
     "start_time": "2024-11-17T13:40:53.622396Z"
    }
   },
   "id": "c21357161a6413ef",
   "execution_count": 21
  },
  {
   "cell_type": "markdown",
   "source": [
    "### 匿名函数（lambda函数）"
   ],
   "metadata": {
    "collapsed": false
   },
   "id": "e22af14b4afc2083"
  },
  {
   "cell_type": "code",
   "outputs": [
    {
     "ename": "TypeError",
     "evalue": "<lambda>() missing 1 required positional argument: 'a'",
     "output_type": "error",
     "traceback": [
      "\u001B[1;31m---------------------------------------------------------------------------\u001B[0m",
      "\u001B[1;31mTypeError\u001B[0m                                 Traceback (most recent call last)",
      "\u001B[1;32m~\\AppData\\Local\\Temp\\ipykernel_46988\\2599119371.py\u001B[0m in \u001B[0;36m<module>\u001B[1;34m\u001B[0m\n\u001B[0;32m      1\u001B[0m \u001B[0mx\u001B[0m \u001B[1;33m=\u001B[0m \u001B[1;32mlambda\u001B[0m \u001B[0ma\u001B[0m \u001B[1;33m:\u001B[0m \u001B[0ma\u001B[0m \u001B[1;33m+\u001B[0m \u001B[1;36m10\u001B[0m\u001B[1;33m\u001B[0m\u001B[1;33m\u001B[0m\u001B[0m\n\u001B[1;32m----> 2\u001B[1;33m \u001B[0mprint\u001B[0m\u001B[1;33m(\u001B[0m\u001B[0mx\u001B[0m\u001B[1;33m(\u001B[0m\u001B[1;33m)\u001B[0m\u001B[1;33m)\u001B[0m\u001B[1;33m\u001B[0m\u001B[1;33m\u001B[0m\u001B[0m\n\u001B[0m",
      "\u001B[1;31mTypeError\u001B[0m: <lambda>() missing 1 required positional argument: 'a'"
     ]
    }
   ],
   "source": [
    "# 所谓匿名，意即不再使用 def 语句这样标准的形式定义一个函数\n",
    "x = lambda a : a + 10\n",
    "print(x(5))"
   ],
   "metadata": {
    "collapsed": false,
    "ExecuteTime": {
     "end_time": "2024-11-17T13:37:14.628219Z",
     "start_time": "2024-11-17T13:37:14.441130Z"
    }
   },
   "id": "73718ac42d72f833",
   "execution_count": 18
  },
  {
   "cell_type": "code",
   "outputs": [
    {
     "name": "stdout",
     "output_type": "stream",
     "text": [
      "30\n"
     ]
    }
   ],
   "source": [
    "sum = lambda arg1, arg2: arg1 + arg2\n",
    "print(sum(10, 20))"
   ],
   "metadata": {
    "collapsed": false,
    "ExecuteTime": {
     "end_time": "2024-11-17T13:37:52.091167Z",
     "start_time": "2024-11-17T13:37:52.076208Z"
    }
   },
   "id": "d679ee5d1b3dd016",
   "execution_count": 19
  },
  {
   "cell_type": "code",
   "outputs": [
    {
     "name": "stdout",
     "output_type": "stream",
     "text": [
      "22\n",
      "33\n"
     ]
    }
   ],
   "source": [
    "# 将匿名函数封装在一个函数内，这样可以使用同样的代码来创建多个匿名函数\n",
    "def myfunc(n):\n",
    "  return lambda a : a * n\n",
    " \n",
    "mydoubler = myfunc(2)\n",
    "mytripler = myfunc(3)\n",
    "print(mydoubler(11))\n",
    "print(mytripler(11))"
   ],
   "metadata": {
    "collapsed": false,
    "ExecuteTime": {
     "end_time": "2024-11-17T13:39:22.179422Z",
     "start_time": "2024-11-17T13:39:22.173439Z"
    }
   },
   "id": "a4b177241cbaf371",
   "execution_count": 20
  },
  {
   "cell_type": "markdown",
   "source": [
    "## 5.面向对象编程\n",
    "### 面向对象最重要的概念就是类（Class）和实例（Instance），类是抽象的模板，而实例是根据类创建出来的一个个具体的“对象”，每个对象都拥有相同的方法，但各自的数据可能不同"
   ],
   "metadata": {
    "collapsed": false
   },
   "id": "c0ec9e30073a542d"
  },
  {
   "cell_type": "code",
   "outputs": [
    {
     "name": "stdout",
     "output_type": "stream",
     "text": [
      "阿Q\n",
      "89\n",
      "男\n"
     ]
    }
   ],
   "source": [
    "# 目前大型程序设计，都是用类写的，因为可拓展性强\n",
    "\n",
    "# 类可以起到模板的作用，因此，在创建实例的时候，可以绑定的属性强制填写进去。通过定义一个特殊的__init__方法\n",
    "class Student():\n",
    "    \n",
    "    def __init__(self, name, score):  # __init__第一个参数永远是self，表示创建的实例本身,用方法init绑定属性\n",
    "        self.name = name\n",
    "        self.score = score\n",
    "        self.sex = '男'               # 当有属性为固定值，则不用在init方法传入参数，pytorch构建网络都是这方法\n",
    "\n",
    "# 创建一个实例\n",
    "a = Student('阿Q', 89)\n",
    "# 查看实例的属性\n",
    "print(a.name)\n",
    "print(a.score)\n",
    "print(a.sex)"
   ],
   "metadata": {
    "collapsed": false,
    "ExecuteTime": {
     "end_time": "2024-11-17T14:05:56.479981Z",
     "start_time": "2024-11-17T14:05:56.474024Z"
    }
   },
   "id": "2c9c9d94472009e6",
   "execution_count": 22
  },
  {
   "cell_type": "code",
   "outputs": [
    {
     "name": "stdout",
     "output_type": "stream",
     "text": [
      "age: 21\n"
     ]
    }
   ],
   "source": [
    "# 使用方法定义属性，同理也可以创建一个方法修改属性\n",
    "class Student():\n",
    "    \n",
    "    def set_age(self, value):\n",
    "        self.age = value\n",
    "    def get_age(self):\n",
    "        print('age: %s' % (self.age))\n",
    "    def change_age(self, num):\n",
    "        self.age = num\n",
    "\n",
    "a = Student()\n",
    "a.set_age(21)\n",
    "a.get_age()"
   ],
   "metadata": {
    "collapsed": false,
    "ExecuteTime": {
     "end_time": "2024-11-17T14:06:02.115942Z",
     "start_time": "2024-11-17T14:06:02.101980Z"
    }
   },
   "id": "3ad47b063e21a9c6",
   "execution_count": 23
  },
  {
   "cell_type": "code",
   "outputs": [
    {
     "name": "stdout",
     "output_type": "stream",
     "text": [
      "age: 10\n"
     ]
    }
   ],
   "source": [
    "# 用方法修改属性\n",
    "a.change_age(10)\n",
    "a.get_age()"
   ],
   "metadata": {
    "collapsed": false,
    "ExecuteTime": {
     "end_time": "2024-11-17T14:06:07.938021Z",
     "start_time": "2024-11-17T14:06:07.920070Z"
    }
   },
   "id": "a95e629f26b84da",
   "execution_count": 24
  },
  {
   "cell_type": "markdown",
   "source": [
    "### 类的继承\n",
    "#### 只能单继承，不能一个类有两个父类"
   ],
   "metadata": {
    "collapsed": false
   },
   "id": "2fcafe3a81974598"
  },
  {
   "cell_type": "code",
   "outputs": [],
   "source": [
    "# 定义一个父类\n",
    "class Dog():\n",
    "    def __init__(self, name, age):\n",
    "        self.name = name\n",
    "        self.age = age\n",
    "    \n",
    "    def run(self):\n",
    "        print('Dog is running...')\n",
    "\n",
    "# 定义一个子类,在括号里面添加父类\n",
    "class A(Dog):                      # 在类的括号里面写上父类的名字即可\n",
    "    def run(self):\n",
    "        print('A is running...')\n",
    "        \n",
    "class B(Dog):\n",
    "    def run(self):\n",
    "        print('B is running...')"
   ],
   "metadata": {
    "collapsed": false,
    "ExecuteTime": {
     "end_time": "2024-11-17T14:06:40.675255Z",
     "start_time": "2024-11-17T14:06:40.661293Z"
    }
   },
   "id": "f5a19abc2ce6b3f0",
   "execution_count": 25
  },
  {
   "cell_type": "code",
   "outputs": [
    {
     "data": {
      "text/plain": "('小a', 2)"
     },
     "execution_count": 26,
     "metadata": {},
     "output_type": "execute_result"
    }
   ],
   "source": [
    "# 子类可以继承父类的属性\n",
    "a = A('小a', 2)\n",
    "a.name, a.age"
   ],
   "metadata": {
    "collapsed": false,
    "ExecuteTime": {
     "end_time": "2024-11-17T14:06:44.481055Z",
     "start_time": "2024-11-17T14:06:44.468089Z"
    }
   },
   "id": "1dca86ed953fd455",
   "execution_count": 26
  },
  {
   "cell_type": "code",
   "outputs": [
    {
     "name": "stdout",
     "output_type": "stream",
     "text": [
      "B is running...\n"
     ]
    }
   ],
   "source": [
    "# 如果子类和父类有同名的方法，会调用子类的方法，也就是方法的重写\n",
    "b = B('小b', 3)\n",
    "b.run()"
   ],
   "metadata": {
    "collapsed": false,
    "ExecuteTime": {
     "end_time": "2024-11-17T14:06:48.431695Z",
     "start_time": "2024-11-17T14:06:48.423747Z"
    }
   },
   "id": "8921a7164bda8938",
   "execution_count": 27
  },
  {
   "cell_type": "markdown",
   "source": [
    "### 实例属性\n",
    "#### 类本身需要一个全局的属性，直接在类中定义"
   ],
   "metadata": {
    "collapsed": false
   },
   "id": "df7b9bc46e130457"
  },
  {
   "cell_type": "code",
   "outputs": [
    {
     "name": "stdout",
     "output_type": "stream",
     "text": [
      "公\n"
     ]
    }
   ],
   "source": [
    "# 父类\n",
    "class Dog(object):\n",
    "    sex = '公'       # 实例属性单属于Dog这个类\n",
    "    \n",
    "    def __init__(self, name, age):\n",
    "        self.name = name\n",
    "        self.age = age\n",
    "    \n",
    "    def run(self):\n",
    "        print('Dog is running...')\n",
    "\n",
    "# 子类\n",
    "class A(Dog):\n",
    "    def run(self):\n",
    "        print('A is running...')\n",
    "a = A('小a', 2)\n",
    "print(a.sex)"
   ],
   "metadata": {
    "collapsed": false,
    "ExecuteTime": {
     "end_time": "2024-11-17T14:07:12.554811Z",
     "start_time": "2024-11-17T14:07:12.545835Z"
    }
   },
   "id": "c0716d9fc7c3c6",
   "execution_count": 28
  },
  {
   "cell_type": "code",
   "outputs": [],
   "source": [],
   "metadata": {
    "collapsed": false
   },
   "id": "3982a1c48a67881f"
  }
 ],
 "metadata": {
  "kernelspec": {
   "display_name": "Python 3",
   "language": "python",
   "name": "python3"
  },
  "language_info": {
   "codemirror_mode": {
    "name": "ipython",
    "version": 2
   },
   "file_extension": ".py",
   "mimetype": "text/x-python",
   "name": "python",
   "nbconvert_exporter": "python",
   "pygments_lexer": "ipython2",
   "version": "2.7.6"
  }
 },
 "nbformat": 4,
 "nbformat_minor": 5
}
