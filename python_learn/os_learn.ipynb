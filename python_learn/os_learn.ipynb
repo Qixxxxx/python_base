{
 "cells": [
  {
   "cell_type": "markdown",
   "source": [
    "# 1.python打开文件"
   ],
   "metadata": {
    "collapsed": false
   },
   "id": "d51431f01bb597f5"
  },
  {
   "cell_type": "code",
   "outputs": [
    {
     "data": {
      "text/plain": "'啦啦啦啦啦德玛西亚！'"
     },
     "execution_count": 1,
     "metadata": {},
     "output_type": "execute_result"
    }
   ],
   "source": [
    "# open():打开本有文件/新建没有的文件  filename:文件路径\n",
    "# mode:\n",
    "## 'r'：read 1.文件不存在则报错，文件存在则打开文件 2.文件的指针指向文件的开头  \n",
    "## 'w':write 1.文件不存在则新建文件，文件存在则打开并且清空文件 2.文件的指针指向文件的开头 \n",
    "## 'x': xor  1.文件不存在则新建文件，文件存在则报错  2.文件指针指向文件的开头\n",
    "## 'a':append 1.文件不存在则新建文件，文件存在则打开文件 2.文件的指针指向文件的末尾\n",
    "## '+' plus模式 增加模式\n",
    "\n",
    "os_stream = open('test_1.txt', 'w+', encoding='utf-8')       # + 可以将写变成写读功能，将读变为读写功能\n",
    "os_stream.write('啦啦啦啦啦德玛西亚！')\n",
    "os_stream.seek(0)   # 移动指针\n",
    "os_stream.read()\n",
    "os_stream.close() # 使用流之后，需要关闭"
   ],
   "metadata": {
    "collapsed": false,
    "ExecuteTime": {
     "end_time": "2025-02-10T14:14:13.132392Z",
     "start_time": "2025-02-10T14:14:13.113062Z"
    }
   },
   "id": "180a5b1370ecc304",
   "execution_count": 1
  },
  {
   "cell_type": "code",
   "outputs": [],
   "source": [
    "# with:自动监控文件，不需要显示关闭（调用close）\n",
    "with open('test_2.txt', 'w', encoding='utf-8') as g:\n",
    "    g.write('hello')"
   ],
   "metadata": {
    "collapsed": false,
    "ExecuteTime": {
     "end_time": "2025-02-10T14:15:38.712394Z",
     "start_time": "2025-02-10T14:15:38.696389Z"
    }
   },
   "id": "a813907c1d22b77f",
   "execution_count": 2
  },
  {
   "cell_type": "markdown",
   "source": [
    "# 2.os使用"
   ],
   "metadata": {
    "collapsed": false
   },
   "id": "f681e3683cc02cc6"
  },
  {
   "cell_type": "code",
   "outputs": [],
   "source": [
    "import os"
   ],
   "metadata": {
    "collapsed": false,
    "ExecuteTime": {
     "end_time": "2025-02-10T14:17:18.343896Z",
     "start_time": "2025-02-10T14:17:18.329893Z"
    }
   },
   "id": "7d628d85e535fd59",
   "execution_count": 3
  },
  {
   "cell_type": "code",
   "outputs": [
    {
     "name": "stdout",
     "output_type": "stream",
     "text": [
      "E:\\python_base\\python_learn\n"
     ]
    }
   ],
   "source": [
    "\"\"\"\n",
    "getcwd（） 获取当前的工作目录   get current work directory\n",
    "格式：os.getcwd()\n",
    "返回值：当前工作目录的地址字符串\n",
    "\"\"\"\n",
    "current_path = os.getcwd()\n",
    "print(current_path)"
   ],
   "metadata": {
    "collapsed": false,
    "ExecuteTime": {
     "end_time": "2025-02-10T14:19:30.121333Z",
     "start_time": "2025-02-10T14:19:30.107333Z"
    }
   },
   "id": "66db7b758604fa19",
   "execution_count": 4
  },
  {
   "cell_type": "code",
   "outputs": [],
   "source": [],
   "metadata": {
    "collapsed": false
   },
   "id": "c0718b4e0aa1bff0"
  }
 ],
 "metadata": {
  "kernelspec": {
   "display_name": "Python 3",
   "language": "python",
   "name": "python3"
  },
  "language_info": {
   "codemirror_mode": {
    "name": "ipython",
    "version": 2
   },
   "file_extension": ".py",
   "mimetype": "text/x-python",
   "name": "python",
   "nbconvert_exporter": "python",
   "pygments_lexer": "ipython2",
   "version": "2.7.6"
  }
 },
 "nbformat": 4,
 "nbformat_minor": 5
}
