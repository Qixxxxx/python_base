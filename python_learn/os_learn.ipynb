{
 "cells": [
  {
   "cell_type": "markdown",
   "source": [
    "# 1.python打开文件"
   ],
   "metadata": {
    "collapsed": false
   },
   "id": "d51431f01bb597f5"
  },
  {
   "cell_type": "code",
   "outputs": [
    {
     "data": {
      "text/plain": "'啦啦啦啦啦德玛西亚！'"
     },
     "execution_count": 1,
     "metadata": {},
     "output_type": "execute_result"
    }
   ],
   "source": [
    "# open():打开本有文件/新建没有的文件  filename:文件路径\n",
    "# mode:\n",
    "## 'r'：read 1.文件不存在则报错，文件存在则打开文件 2.文件的指针指向文件的开头  \n",
    "## 'w':write 1.文件不存在则新建文件，文件存在则打开并且清空文件 2.文件的指针指向文件的开头 \n",
    "## 'x': xor  1.文件不存在则新建文件，文件存在则报错  2.文件指针指向文件的开头\n",
    "## 'a':append 1.文件不存在则新建文件，文件存在则打开文件 2.文件的指针指向文件的末尾\n",
    "## '+' plus模式 增加模式\n",
    "\n",
    "os_stream = open('test_1.txt', 'w+', encoding='utf-8')       # + 可以将写变成写读功能，将读变为读写功能\n",
    "os_stream.write('啦啦啦啦啦德玛西亚！')\n",
    "os_stream.seek(0)   # 移动指针\n",
    "os_stream.read()\n",
    "os_stream.close() # 使用流之后，需要关闭"
   ],
   "metadata": {
    "collapsed": false,
    "ExecuteTime": {
     "end_time": "2025-02-10T14:14:13.132392Z",
     "start_time": "2025-02-10T14:14:13.113062Z"
    }
   },
   "id": "180a5b1370ecc304",
   "execution_count": 1
  },
  {
   "cell_type": "code",
   "outputs": [],
   "source": [
    "# with:自动监控文件，不需要显示关闭（调用close）\n",
    "with open('test_2.txt', 'w', encoding='utf-8') as g:\n",
    "    g.write('hello')"
   ],
   "metadata": {
    "collapsed": false,
    "ExecuteTime": {
     "end_time": "2025-02-10T14:15:38.712394Z",
     "start_time": "2025-02-10T14:15:38.696389Z"
    }
   },
   "id": "a813907c1d22b77f",
   "execution_count": 2
  },
  {
   "cell_type": "markdown",
   "source": [
    "# 2.os使用\n",
    "## 注意 window的路径分隔符:\\ python代码里分隔符:/  linux的路径分隔符: /"
   ],
   "metadata": {
    "collapsed": false
   },
   "id": "f681e3683cc02cc6"
  },
  {
   "cell_type": "code",
   "outputs": [],
   "source": [
    "import os"
   ],
   "metadata": {
    "collapsed": false,
    "ExecuteTime": {
     "end_time": "2025-02-22T02:13:09.969463Z",
     "start_time": "2025-02-22T02:13:09.960463Z"
    }
   },
   "id": "7d628d85e535fd59",
   "execution_count": 1
  },
  {
   "cell_type": "code",
   "outputs": [
    {
     "name": "stdout",
     "output_type": "stream",
     "text": [
      "E:\\python_base\\python_learn\n"
     ]
    }
   ],
   "source": [
    "\"\"\"\n",
    "getcwd（） 获取当前的工作目录（绝对路径）\n",
    "格式：os.getcwd()\n",
    "返回值：当前工作目录的地址字符串\n",
    "\"\"\"\n",
    "current_path = os.getcwd()\n",
    "print(current_path)"
   ],
   "metadata": {
    "collapsed": false,
    "ExecuteTime": {
     "end_time": "2025-02-18T13:16:23.982353Z",
     "start_time": "2025-02-18T13:16:23.976353Z"
    }
   },
   "id": "66db7b758604fa19",
   "execution_count": 3
  },
  {
   "cell_type": "code",
   "outputs": [
    {
     "name": "stdout",
     "output_type": "stream",
     "text": [
      "['os_learn.ipynb', 'python01.ipynb', 'python02.ipynb', 'test.py', 'test_1.txt', 'test_2.txt']\n"
     ]
    }
   ],
   "source": [
    "\"\"\"\n",
    "listdir() 获取指定路径下的文件列表\n",
    "格式：os.listdir(str)\n",
    "返回值：list[str]\n",
    "\"\"\"\n",
    "file_list = os.listdir('E:\\python_base\\python_learn')\n",
    "print(file_list)"
   ],
   "metadata": {
    "collapsed": false,
    "ExecuteTime": {
     "end_time": "2025-02-18T13:16:24.923904Z",
     "start_time": "2025-02-18T13:16:24.904566Z"
    }
   },
   "id": "c0718b4e0aa1bff0",
   "execution_count": 4
  },
  {
   "cell_type": "code",
   "outputs": [],
   "source": [
    "\"\"\"\n",
    "mkdir() 创建文件夹\n",
    "格式：os.mkdir('str')\n",
    "注意：这种方式创建文件夹的话，路径必须存在\n",
    "\"\"\"\n",
    "os.mkdir('E:\\python_base\\python_learn\\mkdir_test')"
   ],
   "metadata": {
    "collapsed": false,
    "ExecuteTime": {
     "end_time": "2025-02-18T13:27:20.682236Z",
     "start_time": "2025-02-18T13:27:20.670235Z"
    }
   },
   "id": "b3f6356e2ccb458d",
   "execution_count": 5
  },
  {
   "cell_type": "code",
   "outputs": [
    {
     "data": {
      "text/plain": "\"\\nmakedirs() 递归创建文件夹\\n格式：os.makedirs('路径/要创建文件夹的名称')\\n注：用这种方式创建文件夹时，路径不存在自动递归创建\\n\""
     },
     "execution_count": 6,
     "metadata": {},
     "output_type": "execute_result"
    }
   ],
   "source": [
    "\"\"\"\n",
    "makedirs() 递归创建文件夹\n",
    "格式：os.makedirs('路径/要创建文件夹的名称')\n",
    "注：用这种方式创建文件夹时，路径不存在自动递归创建\n",
    "\"\"\"\n",
    "# os.makedirs('D:/a/b/c')  abc全是文件夹，但是ab不存在，想创建c时用递归创建自动创建好ab文件夹"
   ],
   "metadata": {
    "collapsed": false,
    "ExecuteTime": {
     "end_time": "2025-02-18T13:29:56.364152Z",
     "start_time": "2025-02-18T13:29:56.342147Z"
    }
   },
   "id": "b510447144ef9adc",
   "execution_count": 6
  },
  {
   "cell_type": "code",
   "outputs": [],
   "source": [
    "\"\"\"\n",
    "创建文件使用open函数\n",
    "\"\"\"\n",
    "file = open('E:/python_base/python_learn/mkdir_test/' + 'create_file' + '.txt','w')\n",
    "file.close()"
   ],
   "metadata": {
    "collapsed": false,
    "ExecuteTime": {
     "end_time": "2025-02-18T13:33:40.733761Z",
     "start_time": "2025-02-18T13:33:40.724762Z"
    }
   },
   "id": "e5d363b90773af2",
   "execution_count": 7
  },
  {
   "cell_type": "code",
   "outputs": [
    {
     "data": {
      "text/plain": "'\\nrmdir(str) 删除空文件夹\\n格式：os.rmdir(文件夹路径)\\n\\nremovedirs(str) 递归删除空文件夹\\n格式：os.removedirs(文件夹路径)\\n\\nremove(str) 删除文件\\n格式：os.remove(文件夹路径)\\n'"
     },
     "execution_count": 8,
     "metadata": {},
     "output_type": "execute_result"
    }
   ],
   "source": [
    "\"\"\"\n",
    "rmdir(str) 删除空文件夹\n",
    "格式：os.rmdir(文件夹路径)\n",
    "\n",
    "removedirs(str) 递归删除空文件夹\n",
    "格式：os.removedirs(文件夹路径)\n",
    "\n",
    "remove(str) 删除文件\n",
    "格式：os.remove(文件夹路径)\n",
    "\"\"\""
   ],
   "metadata": {
    "collapsed": false,
    "ExecuteTime": {
     "end_time": "2025-02-18T13:36:46.030013Z",
     "start_time": "2025-02-18T13:36:46.018013Z"
    }
   },
   "id": "d4be591e376dca32",
   "execution_count": 8
  },
  {
   "cell_type": "markdown",
   "source": [
    "# 3.os.path使用"
   ],
   "metadata": {
    "collapsed": false
   },
   "id": "c71e7a20390c26d8"
  },
  {
   "cell_type": "code",
   "outputs": [
    {
     "name": "stdout",
     "output_type": "stream",
     "text": [
      "E:\\python_base\\python_learn\\1.txt\n",
      "E:\\python_base\\1.txt\n"
     ]
    }
   ],
   "source": [
    "\"\"\"\n",
    "分类：绝对路径和相对路径\n",
    "绝对路径: 完整描述路径的表示方式  D:/window/a/b/c.txt\n",
    "相对路径: 使用.或者..开头的路径  . 表示当前文件夹路径 ..表示上层文件夹路径\n",
    "\n",
    ". 表示当前文件夹路径 ..表示上层文件夹路径\n",
    "\"\"\"\n",
    "path_1 = './1.txt'\n",
    "a = os.path.abspath(path_1)\n",
    "print(a)\n",
    "path_2 = '../1.txt'\n",
    "b = os.path.abspath(path_2)\n",
    "print(b)"
   ],
   "metadata": {
    "collapsed": false,
    "ExecuteTime": {
     "end_time": "2025-02-18T13:40:38.727369Z",
     "start_time": "2025-02-18T13:40:38.720370Z"
    }
   },
   "id": "bf68fb20ca76345",
   "execution_count": 10
  },
  {
   "cell_type": "code",
   "outputs": [
    {
     "name": "stdout",
     "output_type": "stream",
     "text": [
      "1.txt\n",
      "E:/python_base/python_learn\n"
     ]
    }
   ],
   "source": [
    "\"\"\"\n",
    "basename(str) 获取路径主体部分\n",
    "dirname(str) 获取路径中路径部分\n",
    "\"\"\"\n",
    "path_3 = \"E:/python_base/python_learn/1.txt\"\n",
    "print(os.path.basename(path_3))\n",
    "print(os.path.dirname(path_3))"
   ],
   "metadata": {
    "collapsed": false,
    "ExecuteTime": {
     "end_time": "2025-02-22T02:17:05.767009Z",
     "start_time": "2025-02-22T02:17:05.750009Z"
    }
   },
   "id": "7e6ddc5cf579394b",
   "execution_count": 2
  },
  {
   "cell_type": "code",
   "outputs": [
    {
     "name": "stdout",
     "output_type": "stream",
     "text": [
      "E:/python_base/python_learn/a.txt\n",
      "('E:/python_base/python_learn', 'a.txt')\n"
     ]
    }
   ],
   "source": [
    "\"\"\"\n",
    "join(str, str) 将两个路径合并\n",
    "注意：不能连接两个绝对路径\n",
    "\n",
    "split(str) 拆成路径和主体的元组\n",
    "\n",
    "\"\"\"\n",
    "path_4 = 'E:/python_base/python_learn/'\n",
    "path_5 = 'a.txt'\n",
    "result = os.path.join(path_4, path_5)\n",
    "print(result)\n",
    "print(os.path.split(result))"
   ],
   "metadata": {
    "collapsed": false,
    "ExecuteTime": {
     "end_time": "2025-02-22T02:25:33.015835Z",
     "start_time": "2025-02-22T02:25:33.003835Z"
    }
   },
   "id": "d8d8613a8af879e3",
   "execution_count": 4
  },
  {
   "cell_type": "code",
   "outputs": [],
   "source": [],
   "metadata": {
    "collapsed": false
   },
   "id": "deec6af4544f1bd8"
  }
 ],
 "metadata": {
  "kernelspec": {
   "display_name": "Python 3",
   "language": "python",
   "name": "python3"
  },
  "language_info": {
   "codemirror_mode": {
    "name": "ipython",
    "version": 2
   },
   "file_extension": ".py",
   "mimetype": "text/x-python",
   "name": "python",
   "nbconvert_exporter": "python",
   "pygments_lexer": "ipython2",
   "version": "2.7.6"
  }
 },
 "nbformat": 4,
 "nbformat_minor": 5
}
