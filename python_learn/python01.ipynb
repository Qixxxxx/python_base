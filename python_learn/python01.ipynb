{
 "cells": [
  {
   "cell_type": "markdown",
   "source": [
    "# python是解释型语言，相比于编译型语言其效率更低，但是由于其简单易懂的语法，在不讲究性能的研究场景（原型的搭建，测试）python用处较多"
   ],
   "metadata": {
    "collapsed": false
   },
   "id": "702fc490c0144d3b"
  },
  {
   "cell_type": "markdown",
   "source": [
    "## 1、在python中能够直接处理的数据类型：字符串str，整型（int、float、complex） ,  布尔值bool，空值None"
   ],
   "metadata": {
    "collapsed": false
   },
   "id": "dcb939872fdf57db"
  },
  {
   "cell_type": "code",
   "outputs": [
    {
     "name": "stdout",
     "output_type": "stream",
     "text": [
      "123\n",
      "I'm 'OK'!\n",
      "hello, \n",
      " world!\n",
      "hello, \\n world!\n",
      "hello, \\n world!\n"
     ]
    }
   ],
   "source": [
    "# 字符串str\n",
    "\n",
    "# 用单引号或者双引号包住的文本为字符串\n",
    "print('123') \n",
    "print(\"123\") \n",
    "\n",
    "# 字符串内部既包含 ' 又包含 \" 怎么办？可以用转义字符反斜线来标识\n",
    "print(\"I\\'m \\'OK\\'!\") # 注意：斜线是键盘上？那个，反斜线是回车上面那个\n",
    "\n",
    "# 转义字符\\可以转义很多字符，比如\\n表示换行，\\t表示制表符\n",
    "print('hello, \\n world!')\n",
    "\n",
    "# 字符\\本身也要转义，所以\\\\表示的字符就是\\\n",
    "print('hello, \\\\n world!')\n",
    "\n",
    "# 用r''表示''内部的字符串默认不转义\n",
    "print(r'hello, \\n world!')\n"
   ],
   "metadata": {
    "collapsed": false,
    "ExecuteTime": {
     "end_time": "2024-11-14T13:14:00.430427Z",
     "start_time": "2024-11-14T13:14:00.416438Z"
    }
   },
   "id": "2f795814e47b2dcb",
   "execution_count": 1
  },
  {
   "cell_type": "code",
   "outputs": [
    {
     "name": "stdout",
     "output_type": "stream",
     "text": [
      "1\n",
      "1.0\n",
      "(1+3j)\n"
     ]
    }
   ],
   "source": [
    "# 整型\n",
    "print(1)         # int\n",
    "print(1.0)       # float\n",
    "print(1 + 3j)    # complex"
   ],
   "metadata": {
    "collapsed": false,
    "ExecuteTime": {
     "end_time": "2024-11-14T13:34:47.835553Z",
     "start_time": "2024-11-14T13:34:47.821591Z"
    }
   },
   "id": "83a47ec99f94a148",
   "execution_count": 4
  },
  {
   "cell_type": "code",
   "outputs": [
    {
     "name": "stdout",
     "output_type": "stream",
     "text": [
      "False\n",
      "True\n",
      "True\n",
      "True\n"
     ]
    }
   ],
   "source": [
    "# 布尔值只有True、False两种值。存在布尔计算\n",
    "\n",
    "print(3 > 5)\n",
    "print(5 > 3 > 1) # 等价于 print(5 > 3 and 3 > 1)\n",
    "print(5 > 3 or 3 > 1)\n",
    "print(not False)"
   ],
   "metadata": {
    "collapsed": false,
    "ExecuteTime": {
     "end_time": "2024-11-14T13:34:48.709512Z",
     "start_time": "2024-11-14T13:34:48.693557Z"
    }
   },
   "id": "8891d2189956d2bd",
   "execution_count": 5
  },
  {
   "cell_type": "code",
   "outputs": [
    {
     "name": "stdout",
     "output_type": "stream",
     "text": [
      "<class 'int'>\n",
      "<class 'bool'>\n",
      "<class 'float'>\n",
      "<class 'NoneType'>\n"
     ]
    }
   ],
   "source": [
    "# 用type获取数据类型\n",
    "print(type(1))\n",
    "print(type(True))\n",
    "print(type(1.0))\n",
    "\n",
    "# 空值是Python里一个特殊的值，用None表示。None不能理解为0，因为0是有意义的，而None是一个特殊的空值\n",
    "print(type(None))"
   ],
   "metadata": {
    "collapsed": false,
    "ExecuteTime": {
     "end_time": "2024-11-14T13:34:49.557138Z",
     "start_time": "2024-11-14T13:34:49.539627Z"
    }
   },
   "id": "de1d542bea980f22",
   "execution_count": 6
  },
  {
   "cell_type": "code",
   "outputs": [
    {
     "name": "stdout",
     "output_type": "stream",
     "text": [
      "1\n",
      "2\n",
      "3\n",
      "1.0\n",
      "2.8\n",
      "3.0\n",
      "4.2\n",
      "s1\n",
      "2\n",
      "3.0\n"
     ]
    }
   ],
   "source": [
    "# 使用 int()、float()、str() 等预定义函数来执行显式类型转换\n",
    "print(int(1))   # x 输出结果为 1\n",
    "print(int(2.8)) # y 输出结果为 2\n",
    "print(int(\"3\")) # z 输出结果为 3\n",
    "\n",
    "print(float(1))     # x 输出结果为 1.0\n",
    "print(float(2.8))   # y 输出结果为 2.8\n",
    "print(float(\"3\"))   # z 输出结果为 3.0\n",
    "print(float(\"4.2\")) # w 输出结果为 4.2\n",
    "\n",
    "print(str(\"s1\")) # x 输出结果为 's1'\n",
    "print(str(2))   # y 输出结果为 '2'\n",
    "print(str(3.0))  # z 输出结果为 '3.0'"
   ],
   "metadata": {
    "collapsed": false,
    "ExecuteTime": {
     "end_time": "2024-11-17T12:08:06.943534Z",
     "start_time": "2024-11-17T12:08:06.936553Z"
    }
   },
   "id": "937b4f373476fd49",
   "execution_count": 67
  },
  {
   "cell_type": "markdown",
   "source": [
    "### 运算符"
   ],
   "metadata": {
    "collapsed": false
   },
   "id": "852ccbcdc55d3289"
  },
  {
   "cell_type": "code",
   "outputs": [
    {
     "name": "stdout",
     "output_type": "stream",
     "text": [
      "3\n",
      "1\n",
      "1000\n"
     ]
    }
   ],
   "source": [
    "# 算数运算符： + - * / %取模（除法的余数） **（幂运算） //（向下取整）\n",
    "print(10 // 3)\n",
    "print(10 % 3)\n",
    "print(10 ** 3)"
   ],
   "metadata": {
    "collapsed": false,
    "ExecuteTime": {
     "end_time": "2024-11-17T12:11:00.295075Z",
     "start_time": "2024-11-17T12:11:00.284077Z"
    }
   },
   "id": "fe5d0e6dea22bab6",
   "execution_count": 68
  },
  {
   "cell_type": "code",
   "outputs": [
    {
     "name": "stdout",
     "output_type": "stream",
     "text": [
      "False\n"
     ]
    }
   ],
   "source": [
    "# 比较运算符 ==相等 !=不等于 >大于 <小于 >=大于等于 <=小于等于 返回bool值\n",
    "print(1 == 3)"
   ],
   "metadata": {
    "collapsed": false,
    "ExecuteTime": {
     "end_time": "2024-11-17T12:12:49.443752Z",
     "start_time": "2024-11-17T12:12:49.433778Z"
    }
   },
   "id": "d212d715e853e3d0",
   "execution_count": 69
  },
  {
   "cell_type": "markdown",
   "source": [
    "## 2、变量和常量"
   ],
   "metadata": {
    "collapsed": false
   },
   "id": "fa4e1ecf8e7bfb01"
  },
  {
   "cell_type": "code",
   "outputs": [
    {
     "name": "stdout",
     "output_type": "stream",
     "text": [
      "1\n",
      "1\n",
      "True\n",
      "True\n",
      "True\n"
     ]
    }
   ],
   "source": [
    "# 常量就是不能变的变量，比如常用的数学常数π就是一个常量。在Python中，通常用全部大写的变量名表示常量\n",
    "\n",
    "\n",
    "# 变量在程序中就是用一个变量名表示了，变量名必须是大小写英文、数字和_的组合，且不能用数字开头\n",
    "# 变量a可以是任意数值或者数据类型\n",
    "a = 1\n",
    "# 也可以把一个变量a赋值给另一个变量b，这个操作实际上是把变量b指向变量a的引用\n",
    "b = a\n",
    "print(a)\n",
    "print(b)\n",
    "\n",
    "d = 1\n",
    "# == 对于基本数据类型时，用来判断值是否相同。对于对象而言就是用来判断引用是否相同\n",
    "print(b == d)  \n",
    "# is 用来判断引用是否相同\n",
    "print(a is b)\n",
    "print(a is d)\n",
    "\n",
    "# 多个变量赋值\n",
    "a,b,c = 1,2,3\n",
    "print(a)\n",
    "print(b)\n",
    "print(c)"
   ],
   "metadata": {
    "collapsed": true,
    "ExecuteTime": {
     "end_time": "2024-11-14T13:44:28.567359Z",
     "start_time": "2024-11-14T13:44:28.556390Z"
    }
   },
   "id": "initial_id",
   "execution_count": 9
  },
  {
   "cell_type": "markdown",
   "source": [
    "## 3，格式化\n",
    "### %s表示字符串输出，%d表示整数输出，%f表示浮点数输出"
   ],
   "metadata": {
    "collapsed": false
   },
   "id": "d9d06b4ace957fee"
  },
  {
   "cell_type": "code",
   "outputs": [
    {
     "name": "stdout",
     "output_type": "stream",
     "text": [
      "hello, world\n",
      "hello, 1\n",
      "hello, 2.000000\n",
      "3.00\n",
      "3.1200\n",
      "3.12000000\n",
      "03\n",
      "00003\n"
     ]
    }
   ],
   "source": [
    "f1 = \"hello, %s\"\n",
    "f2 = \"hello, %d\"\n",
    "f3 = \"hello, %f\"\n",
    "\n",
    "a1 = f1 % \"world\"\n",
    "a2 = f2 % 1\n",
    "a3 = f3 % 2\n",
    "\n",
    "print(a1)\n",
    "print(a2)\n",
    "print(a3)  # %f默认小数点6位\n",
    "# 使用 %.nf n表示小数点后n位\n",
    "print(\"%.2f\" % 3)\n",
    "print(\"%.4f\" % 3.12)\n",
    "print(\"%.8f\" % 3.12)\n",
    "\n",
    "# 使用%0nd n表示位数，高位补零\n",
    "print(\"%02d\" % 3)\n",
    "print(\"%05d\" % 3)"
   ],
   "metadata": {
    "collapsed": false,
    "ExecuteTime": {
     "end_time": "2024-11-16T04:58:55.186676Z",
     "start_time": "2024-11-16T04:58:55.173709Z"
    }
   },
   "id": "45c000d62c64d476",
   "execution_count": 9
  },
  {
   "cell_type": "markdown",
   "source": [
    "### format()函数进行格式化\n",
    "#### 用来替换字符串中的 {}"
   ],
   "metadata": {
    "collapsed": false
   },
   "id": "13840266cbe34891"
  },
  {
   "cell_type": "code",
   "outputs": [
    {
     "name": "stdout",
     "output_type": "stream",
     "text": [
      "1,24xxxx0.1\n",
      "24,1 69\n",
      "qqq 24 24 男\n",
      " 1s\n",
      "  2s\n",
      "s  q\n",
      "s   rewf\n",
      "1.00\n",
      "1   ,     2,s   3.14   s\n",
      "1___,000002,sttt3.14ttts\n",
      "qx__,001.00,0.00\n"
     ]
    }
   ],
   "source": [
    "# 按顺序替换,{}数量要=参数数量\n",
    "a = \"{},{}xxxx{}\".format(\"1\", 24, 0.1)\n",
    "print(a)\n",
    "\n",
    "# 按索引替换,{}数量可以不等于参数数量\n",
    "a1 = \"{1},{0} {4}\".format(\"1\", 24, 0.1, 2, \"69\")\n",
    "print(a1)\n",
    "\n",
    "# ()可以使用kv对，此时 {} -> {k}，{}数量可以不等于kv对数量\n",
    "a2 = \"{name} {age} {age} {sex}\".format(name=\"qqq\", age=24, sex=\"男\")\n",
    "print(a2)\n",
    "\n",
    "# {:宽度} 进行宽度对齐格式化，数值类型默认右对齐，其余默认左对齐\n",
    "print(\"{:2}s\".format(1))\n",
    "print(\"{:3}s\".format(2))\n",
    "print(\"{:3}q\".format(\"s\"))\n",
    "print(\"{:4}rewf\".format(\"s\"))\n",
    "\n",
    "print(\"{:.2f}\".format(1))\n",
    "# {:[对齐符号][宽度]} 对齐符号： >左对齐 <右对齐 =数值类型符号中对齐 例如 -000012 ^居中对齐\n",
    "print(\"{:<4},{:>6},s{:^10}s\".format(1, \"2\", 3.14))\n",
    "# {:[补值][对齐符号][宽度]} 补植只能是一位的值\n",
    "print(\"{:_<4},{:0>6},s{:t^10}s\".format(\"1\", \"2\", 3.14))\n",
    "# {k:} kv格式化，:后面跟的东西如上一致\n",
    "print(\"{c:_<4},{a:0>6.2f},{b:.2f}\".format(a=1, b=0, c=\"qx\"))"
   ],
   "metadata": {
    "collapsed": false,
    "ExecuteTime": {
     "end_time": "2024-11-16T12:43:03.077332Z",
     "start_time": "2024-11-16T12:43:03.066362Z"
    }
   },
   "id": "851b72e7e866331e",
   "execution_count": 44
  },
  {
   "cell_type": "markdown",
   "source": [
    "## 4、列表lis和元组tuple\n",
    "### python的列表是可变数组，元组不可改变有点数组的意思。数组是定长但元素可变，元组定长元素也不可变"
   ],
   "metadata": {
    "collapsed": false
   },
   "id": "c5fcffb3b6c600b6"
  },
  {
   "cell_type": "code",
   "outputs": [
    {
     "name": "stdout",
     "output_type": "stream",
     "text": [
      "['Michael', 'Bob', 'Tracy']\n",
      "Michael\n",
      "Tracy\n",
      "Tracy\n"
     ]
    }
   ],
   "source": [
    "# 用索引来访问list中每一个位置的元素，索引是从0开始的\n",
    "classmates = ['Michael', 'Bob', 'Tracy']  # 这是一个列表\n",
    "print(classmates)\n",
    "print(classmates[0])\n",
    "print(classmates[2])\n",
    "print(classmates[-1])  # 最后一位"
   ],
   "metadata": {
    "collapsed": false,
    "ExecuteTime": {
     "end_time": "2024-11-16T12:48:44.993359Z",
     "start_time": "2024-11-16T12:48:44.975406Z"
    }
   },
   "id": "b2d1a06f327509ce",
   "execution_count": 45
  },
  {
   "cell_type": "code",
   "outputs": [
    {
     "name": "stdout",
     "output_type": "stream",
     "text": [
      "['Michael', 'Jack', 'Bob', 'Tracy', 'Adam']\n"
     ]
    }
   ],
   "source": [
    "# 对list进行添加\n",
    "classmates.append('Adam')  # 添加到最后一位\n",
    "classmates.insert(1, 'Jack')  # 指定索引插入\n",
    "print(classmates)"
   ],
   "metadata": {
    "collapsed": false,
    "ExecuteTime": {
     "end_time": "2024-11-16T12:48:52.032902Z",
     "start_time": "2024-11-16T12:48:52.017942Z"
    }
   },
   "id": "255a2bcf1896c613",
   "execution_count": 46
  },
  {
   "cell_type": "code",
   "outputs": [
    {
     "name": "stdout",
     "output_type": "stream",
     "text": [
      "['Michael', 'Bob', 'Tracy']\n"
     ]
    }
   ],
   "source": [
    "# 删除元素\n",
    "classmates.pop()    # 删除最后一位\n",
    "classmates.pop(1)    # 指定索引删除\n",
    "print(classmates)"
   ],
   "metadata": {
    "collapsed": false,
    "ExecuteTime": {
     "end_time": "2024-11-16T12:49:08.726062Z",
     "start_time": "2024-11-16T12:49:08.713069Z"
    }
   },
   "id": "e51bd4739871f96f",
   "execution_count": 47
  },
  {
   "cell_type": "code",
   "outputs": [
    {
     "name": "stdout",
     "output_type": "stream",
     "text": [
      "['Michael', 'Sarah', 'Tracy']\n"
     ]
    }
   ],
   "source": [
    "# 某个元素替换成别的元素，可以直接赋值给对应的索引位置\n",
    "classmates[1] = 'Sarah'\n",
    "print(classmates)"
   ],
   "metadata": {
    "collapsed": false,
    "ExecuteTime": {
     "end_time": "2024-11-16T12:49:18.197599Z",
     "start_time": "2024-11-16T12:49:18.188486Z"
    }
   },
   "id": "f8859c4c18b6bdb5",
   "execution_count": 48
  },
  {
   "cell_type": "code",
   "outputs": [
    {
     "name": "stdout",
     "output_type": "stream",
     "text": [
      "['Apple', 123, True]\n",
      "4\n"
     ]
    }
   ],
   "source": [
    "# list里面的元素的数据类型也可以不同\n",
    "L = ['Apple', 123, True]\n",
    "# list元素也可以是另一个list\n",
    "print(L)\n",
    "s = ['python', 'java', ['asp', 'php'], 'scheme']   # 只有四个元素\n",
    "print(len(s))            # len方法查看列表长度"
   ],
   "metadata": {
    "collapsed": false,
    "ExecuteTime": {
     "end_time": "2024-11-16T12:49:37.900067Z",
     "start_time": "2024-11-16T12:49:37.882116Z"
    }
   },
   "id": "73d7a14c0325217d",
   "execution_count": 50
  },
  {
   "cell_type": "code",
   "outputs": [
    {
     "name": "stdout",
     "output_type": "stream",
     "text": [
      "('Michael', 'Bob', 'Tracy')\n"
     ]
    },
    {
     "ename": "TypeError",
     "evalue": "'tuple' object does not support item assignment",
     "output_type": "error",
     "traceback": [
      "\u001B[1;31m---------------------------------------------------------------------------\u001B[0m",
      "\u001B[1;31mTypeError\u001B[0m                                 Traceback (most recent call last)",
      "\u001B[1;32m~\\AppData\\Local\\Temp\\ipykernel_24976\\1532231382.py\u001B[0m in \u001B[0;36m<module>\u001B[1;34m\u001B[0m\n\u001B[0;32m      2\u001B[0m \u001B[0mclassmates\u001B[0m \u001B[1;33m=\u001B[0m \u001B[1;33m(\u001B[0m\u001B[1;34m'Michael'\u001B[0m\u001B[1;33m,\u001B[0m \u001B[1;34m'Bob'\u001B[0m\u001B[1;33m,\u001B[0m \u001B[1;34m'Tracy'\u001B[0m\u001B[1;33m)\u001B[0m\u001B[1;33m\u001B[0m\u001B[1;33m\u001B[0m\u001B[0m\n\u001B[0;32m      3\u001B[0m \u001B[0mprint\u001B[0m\u001B[1;33m(\u001B[0m\u001B[0mclassmates\u001B[0m\u001B[1;33m)\u001B[0m\u001B[1;33m\u001B[0m\u001B[1;33m\u001B[0m\u001B[0m\n\u001B[1;32m----> 4\u001B[1;33m \u001B[0mclassmates\u001B[0m\u001B[1;33m[\u001B[0m\u001B[1;36m1\u001B[0m\u001B[1;33m]\u001B[0m \u001B[1;33m=\u001B[0m \u001B[1;34m'Sarah'\u001B[0m\u001B[1;33m\u001B[0m\u001B[1;33m\u001B[0m\u001B[0m\n\u001B[0m\u001B[0;32m      5\u001B[0m \u001B[0mprint\u001B[0m\u001B[1;33m(\u001B[0m\u001B[0mclassmates\u001B[0m\u001B[1;33m)\u001B[0m\u001B[1;33m\u001B[0m\u001B[1;33m\u001B[0m\u001B[0m\n\u001B[0;32m      6\u001B[0m \u001B[1;31m# tuple一旦初始化就不能修改，获取元素的方法和list是一样的，可以使用classmates[0]，classmates[-1]，但不能赋值成另外的元素\u001B[0m\u001B[1;33m\u001B[0m\u001B[1;33m\u001B[0m\u001B[0m\n",
      "\u001B[1;31mTypeError\u001B[0m: 'tuple' object does not support item assignment"
     ]
    }
   ],
   "source": [
    "# 元祖是用小括号\n",
    "classmates = ('Michael', 'Bob', 'Tracy')\n",
    "print(classmates)\n",
    "classmates[1] = 'Sarah'\n",
    "print(classmates)\n",
    "# tuple一旦初始化就不能修改，获取元素的方法和list是一样的，可以使用classmates[0]，classmates[-1]，但不能赋值成另外的元素"
   ],
   "metadata": {
    "collapsed": false,
    "ExecuteTime": {
     "end_time": "2024-11-17T11:40:43.318696Z",
     "start_time": "2024-11-17T11:40:43.302740Z"
    }
   },
   "id": "617e618971610ad2",
   "execution_count": 51
  },
  {
   "cell_type": "code",
   "outputs": [
    {
     "name": "stdout",
     "output_type": "stream",
     "text": [
      "1\n",
      "(1,)\n",
      "('a', 'b', ['X', 'Y', 'A'])\n"
     ]
    }
   ],
   "source": [
    "# 要定义一个只有1个元素的tuple：只有1个元素的tuple定义时必须加一个逗号,，来消除歧义\n",
    "s = (1)      # 并不是一个元祖\n",
    "t = (1,)\n",
    "print(s)\n",
    "print(t)\n",
    "\n",
    "# 一个“可变的”tuple\n",
    "t = ('a', 'b', ['A', 'B'])     # 不可变指的是对于元素不可变，索引2指向的是一个列表，但是列表是可以变的\n",
    "t[2][0] = 'X'\n",
    "t[2][1] = 'Y'\n",
    "t[2].append('A')\n",
    "print(t)"
   ],
   "metadata": {
    "collapsed": false,
    "ExecuteTime": {
     "end_time": "2024-11-17T11:41:16.928561Z",
     "start_time": "2024-11-17T11:41:16.908615Z"
    }
   },
   "id": "44a9a6ac01b8ef50",
   "execution_count": 52
  },
  {
   "cell_type": "markdown",
   "source": [
    "## 5、字典dict和集合set\n",
    "### 也就是哈希表，dict存储键值对，set只存储键。dict和set的key不可改变"
   ],
   "metadata": {
    "collapsed": false
   },
   "id": "d2b85015a193be13"
  },
  {
   "cell_type": "code",
   "outputs": [
    {
     "name": "stdout",
     "output_type": "stream",
     "text": [
      "95\n",
      "{'Michael': 100, 'Bob': 75, 'Tracy': 85, 'Adam': 67}\n",
      "{'Michael': 100, 'Tracy': 85, 'Adam': 67}\n",
      "67\n",
      "{}\n"
     ]
    }
   ],
   "source": [
    "# dict实现，只需要一个“名字”-“成绩”的对照表，直接根据名字查找成绩，无论这个表有多大，查找速度都不会变慢\n",
    "d = {'Michael': 95, 'Bob': 75, 'Tracy': 85}\n",
    "print(d['Michael'])\n",
    "\n",
    "# 修改和添加 直接赋值即可\n",
    "d['Adam'] = 67\n",
    "d['Michael'] = 100\n",
    "print(d)\n",
    "\n",
    "# 删除一个key，用pop(key)方法，对应的value也会从dict中删除\n",
    "d.pop('Bob')\n",
    "print(d)\n",
    "\n",
    "# setdefault 增加值，如果字典里已存在，那么返回原值\n",
    "value = d.setdefault('Adam', 18)\n",
    "print(value)\n",
    "\n",
    "# clear清空\n",
    "d.clear()\n",
    "print(d)"
   ],
   "metadata": {
    "collapsed": false,
    "ExecuteTime": {
     "end_time": "2024-11-17T11:47:31.563435Z",
     "start_time": "2024-11-17T11:47:31.543488Z"
    }
   },
   "id": "46f3256c05250ffc",
   "execution_count": 55
  },
  {
   "cell_type": "code",
   "outputs": [
    {
     "name": "stdout",
     "output_type": "stream",
     "text": [
      "A like Q\n",
      "B like W\n",
      "C like E\n",
      "D like R\n",
      "A\n",
      "B\n",
      "C\n",
      "D\n",
      "Q\n",
      "W\n",
      "E\n",
      "R\n"
     ]
    }
   ],
   "source": [
    "# 遍历字典\n",
    "zidian_3 = {\n",
    "    'a': 'q',\n",
    "    'b': 'w',\n",
    "    'c': 'e',\n",
    "    'd': 'r',\n",
    "}\n",
    "for name, value in zidian_3.items():               # 用两个变量储存键—值对\n",
    "    print(name.title() + \" like \" + value.title())\n",
    "# 遍历字典中的键\n",
    "for name in zidian_3.keys():                      # 单变量，用方法keys（）\n",
    "    print(name.title())\n",
    "# 遍历字典中的值\n",
    "for value in zidian_3.values():                      # 单变量，用方法value（）\n",
    "    print(value.title())"
   ],
   "metadata": {
    "collapsed": false,
    "ExecuteTime": {
     "end_time": "2024-11-17T11:48:08.376141Z",
     "start_time": "2024-11-17T11:48:08.366138Z"
    }
   },
   "id": "eb3849a846bb56fa",
   "execution_count": 56
  },
  {
   "cell_type": "code",
   "outputs": [
    {
     "name": "stdout",
     "output_type": "stream",
     "text": [
      "{1, 2, 3}\n",
      "{1, 2, 3}\n",
      "{1, 2, 3, 4}\n",
      "{1, 3, 4}\n",
      "{2, 3}\n",
      "{1, 2, 3, 4}\n"
     ]
    }
   ],
   "source": [
    "# set和dict类似，也是一组key的集合，但不存储value。由于key不能重复，所以，在set中，没有重复的key\n",
    "s = {1, 2, 3}\n",
    "s1 = {1, 1, 2, 2, 3, 3}\n",
    "print(s)\n",
    "print(s1)\n",
    "\n",
    "# add方法进行添加\n",
    "s.add(4)\n",
    "print(s)\n",
    "\n",
    "# remove 方法进行删除\n",
    "s.remove(2)\n",
    "print(s)\n",
    "\n",
    "# set可以看成数学意义上的无序和无重复元素的集合，因此，两个set可以做数学意义上的交集、并集等操作\n",
    "s1 = set([1, 2, 3])\n",
    "s2 = set([2, 3, 4])\n",
    "print(s1 & s2)        # 交集\n",
    "print(s1 | s2)      # 并集"
   ],
   "metadata": {
    "collapsed": false,
    "ExecuteTime": {
     "end_time": "2024-11-17T12:04:05.718595Z",
     "start_time": "2024-11-17T12:04:05.702638Z"
    }
   },
   "id": "ac3b7554c1abf2aa",
   "execution_count": 65
  },
  {
   "cell_type": "markdown",
   "source": [
    "## 6.字符串常用方法"
   ],
   "metadata": {
    "collapsed": false
   },
   "id": "f292014a247eb27f"
  },
  {
   "cell_type": "code",
   "outputs": [
    {
     "name": "stdout",
     "output_type": "stream",
     "text": [
      "b\n",
      "bcd\n",
      "abcdef\n",
      "7\n"
     ]
    }
   ],
   "source": [
    "s = \"abcdefg\"\n",
    "# 使用[索引]查看位置值\n",
    "print(s[1])\n",
    "# 可以使用[头下标:尾下标]进行截取\n",
    "print(s[1:4])\n",
    "print(s[0:-1])  # -1表示末尾的下标\n",
    "# len(str) 查看长度\n",
    "print(len(s))"
   ],
   "metadata": {
    "collapsed": false,
    "ExecuteTime": {
     "end_time": "2024-11-17T12:19:26.942374Z",
     "start_time": "2024-11-17T12:19:26.924423Z"
    }
   },
   "id": "db28c4c5ab327ef5",
   "execution_count": 77
  },
  {
   "cell_type": "code",
   "outputs": [
    {
     "name": "stdout",
     "output_type": "stream",
     "text": [
      "True\n",
      "False\n",
      "ab\n"
     ]
    }
   ],
   "source": [
    "# in 和 not in\n",
    "s = \"abc\"\n",
    "print(\"a\" in s)\n",
    "print(\"a\" not in s)\n",
    "\n",
    "# + 字符串拼接\n",
    "print(\"a\" + \"b\")"
   ],
   "metadata": {
    "collapsed": false,
    "ExecuteTime": {
     "end_time": "2024-11-17T12:20:45.405455Z",
     "start_time": "2024-11-17T12:20:45.395483Z"
    }
   },
   "id": "d104968536a46cea",
   "execution_count": 79
  },
  {
   "cell_type": "code",
   "outputs": [
    {
     "name": "stdout",
     "output_type": "stream",
     "text": [
      "6\n",
      "-1\n",
      "2\n",
      "False\n",
      "True\n",
      "AABCDEFGH\n",
      "aabcdefgh\n"
     ]
    }
   ],
   "source": [
    "s = \"aabcdefgh\"\n",
    "# 检测 str 是否包含在字符串 ，如果包含返回开始的索引值，否则返回-1\n",
    "print(s.find(\"f\"))\n",
    "print(s.find(\"k\")) # 返回-1\n",
    "# 返回 str 在 string 里面出现的次数\n",
    "print(s.count(\"a\"))\n",
    "# 检查制定的开头和结尾，返回bool值\n",
    "print(s.startswith(\"b\"))\n",
    "print(s.endswith(\"h\"))\n",
    "# 大小写\n",
    "print(s.upper())\n",
    "print(s.lower())"
   ],
   "metadata": {
    "collapsed": false,
    "ExecuteTime": {
     "end_time": "2024-11-17T12:26:37.131023Z",
     "start_time": "2024-11-17T12:26:37.124041Z"
    }
   },
   "id": "e57ff0697ef1f629",
   "execution_count": 80
  },
  {
   "cell_type": "markdown",
   "source": [
    "## 7.列表常用方法"
   ],
   "metadata": {
    "collapsed": false
   },
   "id": "fd1e2ce0b958c037"
  },
  {
   "cell_type": "code",
   "outputs": [
    {
     "name": "stdout",
     "output_type": "stream",
     "text": [
      "red\n",
      "['green', 'blue', 'yellow']\n",
      "['green', 'yellow']\n"
     ]
    }
   ],
   "source": [
    "l = ['red', 'green', 'blue', 'yellow', 'white', 'black']\n",
    "print(l[0])\n",
    "print(l[1:-2])\n",
    "print(l[1:-2:2]) # 最后一位是步长"
   ],
   "metadata": {
    "collapsed": false,
    "ExecuteTime": {
     "end_time": "2024-11-17T12:40:09.795993Z",
     "start_time": "2024-11-17T12:40:09.776047Z"
    }
   },
   "id": "4ef184c673885e45",
   "execution_count": 81
  },
  {
   "cell_type": "code",
   "outputs": [
    {
     "name": "stdout",
     "output_type": "stream",
     "text": [
      "['Google', 'Runoob', 2000]\n"
     ]
    }
   ],
   "source": [
    "l = ['Google', 'Runoob', 1997, 2000]\n",
    "# 使用del删除引用\n",
    "del l[2]\n",
    "print(l)"
   ],
   "metadata": {
    "collapsed": false,
    "ExecuteTime": {
     "end_time": "2024-11-17T12:41:40.189679Z",
     "start_time": "2024-11-17T12:41:40.182698Z"
    }
   },
   "id": "2fdd2c5acfcf1b27",
   "execution_count": 82
  },
  {
   "cell_type": "code",
   "outputs": [
    {
     "name": "stdout",
     "output_type": "stream",
     "text": [
      "3\n",
      "[1, 2, 3, 4, 5, 6]\n",
      "True\n",
      "['Hi!', 'Hi!', 'Hi!', 'Hi!']\n"
     ]
    }
   ],
   "source": [
    "# len()查看长度\n",
    "l = ['Google', 'Runoob', 1997]\n",
    "print(len(l))\n",
    "\n",
    "# + 组合\n",
    "print([1, 2, 3] + [4, 5, 6])\n",
    "# in查询是否在\n",
    "print(3 in [1,2,3])\n",
    "# 重复列表\n",
    "print(['Hi!'] * 4)"
   ],
   "metadata": {
    "collapsed": false,
    "ExecuteTime": {
     "end_time": "2024-11-17T12:43:33.577768Z",
     "start_time": "2024-11-17T12:43:33.560813Z"
    }
   },
   "id": "396796a988290f25",
   "execution_count": 83
  },
  {
   "cell_type": "code",
   "outputs": [
    {
     "name": "stdout",
     "output_type": "stream",
     "text": [
      "4\n",
      "1\n"
     ]
    }
   ],
   "source": [
    "# 查询列表中最大最小值\n",
    "l = [1,2,3,4]\n",
    "print(max(l))\n",
    "print(min(l))"
   ],
   "metadata": {
    "collapsed": false,
    "ExecuteTime": {
     "end_time": "2024-11-17T12:45:18.177846Z",
     "start_time": "2024-11-17T12:45:18.171862Z"
    }
   },
   "id": "82eb39842fa56adc",
   "execution_count": 86
  },
  {
   "cell_type": "code",
   "outputs": [],
   "source": [
    "# list.append(obj)在列表末尾添加新的对象\n",
    "# list.count(obj)统计某个元素在列表中出现的次数\n",
    "# list.extend(seq)在列表末尾一次性追加另一个序列中的多个值（用新列表扩展原来的列表）\n",
    "# list.index(obj)从列表中找出某个值第一个匹配项的索引位置\n",
    "# list.insert(index, obj)将对象插入列表\n",
    "# list.pop([index=-1])移除列表中的一个元素（默认最后一个元素），并且返回该元素的值\n",
    "# list.remove(obj)移除列表中某个值的第一个匹配项\n",
    "# list.reverse()反向列表中元素\n",
    "# list.sort(key=None, reverse=False)对原列表进行排序\n",
    "# list.clear()清空列表\n",
    "# list.copy()复制列表"
   ],
   "metadata": {
    "collapsed": false
   },
   "id": "b80b28c968eee4fc"
  },
  {
   "cell_type": "markdown",
   "source": [
    "## 8.元组常用方法"
   ],
   "metadata": {
    "collapsed": false
   },
   "id": "3d0ff79a8cd864b7"
  },
  {
   "cell_type": "code",
   "outputs": [
    {
     "name": "stdout",
     "output_type": "stream",
     "text": [
      "(1, 2, 3)\n",
      "<class 'tuple'>\n"
     ]
    },
    {
     "ename": "NameError",
     "evalue": "name 'tuple1' is not defined",
     "output_type": "error",
     "traceback": [
      "\u001B[1;31m---------------------------------------------------------------------------\u001B[0m",
      "\u001B[1;31mNameError\u001B[0m                                 Traceback (most recent call last)",
      "\u001B[1;32m~\\AppData\\Local\\Temp\\ipykernel_24976\\3206765717.py\u001B[0m in \u001B[0;36m<module>\u001B[1;34m\u001B[0m\n\u001B[0;32m      9\u001B[0m \u001B[1;31m# 由于元组不可变，只能删除整个元组\u001B[0m\u001B[1;33m\u001B[0m\u001B[1;33m\u001B[0m\u001B[0m\n\u001B[0;32m     10\u001B[0m \u001B[1;32mdel\u001B[0m \u001B[0mtuple1\u001B[0m\u001B[1;33m\u001B[0m\u001B[1;33m\u001B[0m\u001B[0m\n\u001B[1;32m---> 11\u001B[1;33m \u001B[0mprint\u001B[0m\u001B[1;33m(\u001B[0m\u001B[0mtuple1\u001B[0m\u001B[1;33m)\u001B[0m\u001B[1;33m\u001B[0m\u001B[1;33m\u001B[0m\u001B[0m\n\u001B[0m",
      "\u001B[1;31mNameError\u001B[0m: name 'tuple1' is not defined"
     ]
    }
   ],
   "source": [
    "# 元组具有不可变的性质，除了涉及增删改的操作不支持，其余所有操作均同列表操作\n",
    "\n",
    "l = [1,2,3]\n",
    "# 使用tuple()函数可以将列表转为元组\n",
    "tuple1 = tuple(l)\n",
    "print(tuple1)\n",
    "print(type(tuple1))\n",
    "\n",
    "# 由于元组不可变，只能删除整个元组\n",
    "del tuple1\n",
    "print(tuple1) # 会报错，不存在"
   ],
   "metadata": {
    "collapsed": false,
    "ExecuteTime": {
     "end_time": "2024-11-17T12:51:12.308817Z",
     "start_time": "2024-11-17T12:51:12.287828Z"
    }
   },
   "id": "92fd4d26b965e4cd",
   "execution_count": 89
  },
  {
   "cell_type": "markdown",
   "source": [
    "## 9.字典常用方法"
   ],
   "metadata": {
    "collapsed": false
   },
   "id": "a7b030fb989f1c08"
  },
  {
   "cell_type": "code",
   "outputs": [
    {
     "name": "stdout",
     "output_type": "stream",
     "text": [
      "3\n",
      "{'Name': 'Runoob', 'Age': 7, 'Class': 'First'}\n",
      "<class 'str'>\n"
     ]
    }
   ],
   "source": [
    "tiny_dict = {'Name': 'Runoob', 'Age': 7, 'Class': 'First'}\n",
    "# len()查看kv对的数量\n",
    "print(len(tiny_dict))\n",
    "# 将字典转化为字符串，这就是个json字符串了\n",
    "s = str(tiny_dict)\n",
    "print(s)\n",
    "print(type(s))"
   ],
   "metadata": {
    "collapsed": false,
    "ExecuteTime": {
     "end_time": "2024-11-17T12:54:42.895824Z",
     "start_time": "2024-11-17T12:54:42.881894Z"
    }
   },
   "id": "1d06296c211ba7ea",
   "execution_count": 91
  },
  {
   "cell_type": "code",
   "outputs": [],
   "source": [
    "# dict.clear()删除字典内所有元素\n",
    "# dict.copy()返回一个字典的浅复制\n",
    "# dict.fromkeys()创建一个新字典，以序列seq中元素做字典的键，val为字典所有键对应的初始值\n",
    "# dict.get(key, default=None)返回指定键的值，如果键不在字典中返回 default 设置的默认值\n",
    "# key in dict如果键在字典dict里返回true，否则返回false\n",
    "# dict.items()以列表返回一个视图对象\n",
    "# dict.keys()返回一个视图对象\n",
    "# dict.setdefault(key, default=None)和get()类似, 但如果键不存在于字典中，将会添加键并将值设为default\n",
    "# dict.update(dict2)把字典dict2的键/值对更新到dict里\n",
    "# dict.values()返回一个视图对象\n",
    "# pop(key[,default])删除字典 key（键）所对应的值，返回被删除的值。\n",
    "# popitem()返回并删除字典中的最后一对键和值。"
   ],
   "metadata": {
    "collapsed": false,
    "ExecuteTime": {
     "end_time": "2024-11-17T12:56:34.443104Z",
     "start_time": "2024-11-17T12:56:34.429142Z"
    }
   },
   "id": "4ad75f1d537105d3",
   "execution_count": 92
  },
  {
   "cell_type": "markdown",
   "source": [
    "## 10.集合常用方法"
   ],
   "metadata": {
    "collapsed": false
   },
   "id": "a25826f345016f42"
  },
  {
   "cell_type": "code",
   "outputs": [],
   "source": [
    "# 创建集合\n",
    "set1 = {1, 2, 3, 4}            # 直接使用大括号创建集合\n",
    "set2 = set(set1)      # 使用 set() 函数从列表创建集合"
   ],
   "metadata": {
    "collapsed": false,
    "ExecuteTime": {
     "end_time": "2024-11-17T12:57:20.323267Z",
     "start_time": "2024-11-17T12:57:20.305316Z"
    }
   },
   "id": "15d7f678cc32c25a",
   "execution_count": 93
  },
  {
   "cell_type": "code",
   "outputs": [],
   "source": [
    "# add()\t为集合添加元素\n",
    "# clear()\t移除集合中的所有元素\n",
    "# copy()\t拷贝一个集合\n",
    "# difference()\t返回多个集合的差集\n",
    "# difference_update()\t移除集合中的元素，该元素在指定的集合也存在。\n",
    "# discard()\t删除集合中指定的元素\n",
    "# intersection()\t返回集合的交集\n",
    "# intersection_update()\t返回集合的交集。\n",
    "# isdisjoint()\t判断两个集合是否包含相同的元素，如果没有返回 True，否则返回 False。\n",
    "# issubset()\t判断指定集合是否为该方法参数集合的子集。\n",
    "# issuperset()\t判断该方法的参数集合是否为指定集合的子集\n",
    "# pop()\t随机移除元素\n",
    "# remove()\t移除指定元素\n",
    "# symmetric_difference()\t返回两个集合中不重复的元素集合。\n",
    "# symmetric_difference_update()\t移除当前集合中在另外一个指定集合相同的元素，并将另外一个指定集合中不同的元素插入到当前集合中。\n",
    "# union()\t返回两个集合的并集\n",
    "# update()\t给集合添加元素"
   ],
   "metadata": {
    "collapsed": false,
    "ExecuteTime": {
     "end_time": "2024-11-17T13:00:10.263030Z",
     "start_time": "2024-11-17T13:00:10.248072Z"
    }
   },
   "id": "3f849321a53522b2",
   "execution_count": 96
  },
  {
   "cell_type": "code",
   "outputs": [],
   "source": [],
   "metadata": {
    "collapsed": false
   },
   "id": "92f7aa02a61a7cf9"
  }
 ],
 "metadata": {
  "kernelspec": {
   "display_name": "Python 3",
   "language": "python",
   "name": "python3"
  },
  "language_info": {
   "codemirror_mode": {
    "name": "ipython",
    "version": 2
   },
   "file_extension": ".py",
   "mimetype": "text/x-python",
   "name": "python",
   "nbconvert_exporter": "python",
   "pygments_lexer": "ipython2",
   "version": "2.7.6"
  }
 },
 "nbformat": 4,
 "nbformat_minor": 5
}
