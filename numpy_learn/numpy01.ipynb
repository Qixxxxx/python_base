{
 "cells": [
  {
   "cell_type": "markdown",
   "source": [
    "# numpy 专门用来处理数组的库，数据结构只有一种：array"
   ],
   "metadata": {
    "collapsed": false
   },
   "id": "548b0d411e91c878"
  },
  {
   "cell_type": "code",
   "outputs": [],
   "source": [
    "import numpy as np"
   ],
   "metadata": {
    "collapsed": false,
    "ExecuteTime": {
     "end_time": "2025-02-22T02:55:56.762781Z",
     "start_time": "2025-02-22T02:55:56.665777Z"
    }
   },
   "id": "66b45727fef5cf9f",
   "execution_count": 2
  },
  {
   "cell_type": "markdown",
   "source": [
    "## 一、创建一个array（最常用的为二维数组，也就是数值矩阵）\n",
    "### array中最常见的数据类型：'float', 'int', 'bool'"
   ],
   "metadata": {
    "collapsed": false
   },
   "id": "bdbbda62d2b92a5a"
  },
  {
   "cell_type": "code",
   "outputs": [
    {
     "data": {
      "text/plain": "(array([1, 2, 3]),\n array([[1, 2],\n        [3, 4]]))"
     },
     "execution_count": 3,
     "metadata": {},
     "output_type": "execute_result"
    }
   ],
   "source": [
    "\"\"\"\n",
    "np.array(list) 创建数组\n",
    "\n",
    "\"\"\"\n",
    "a = np.array([1,2,3]) # 一维数组\n",
    "b = np.array([[1,2], [3,4]]) # 创建二维数组\n",
    "a,b"
   ],
   "metadata": {
    "collapsed": false,
    "ExecuteTime": {
     "end_time": "2025-02-22T02:55:58.438001Z",
     "start_time": "2025-02-22T02:55:58.421001Z"
    }
   },
   "id": "17b6974061136fa6",
   "execution_count": 3
  },
  {
   "cell_type": "code",
   "outputs": [
    {
     "data": {
      "text/plain": "array([[1., 2.],\n       [3., 4.]], dtype=float32)"
     },
     "execution_count": 4,
     "metadata": {},
     "output_type": "execute_result"
    }
   ],
   "source": [
    "np.array([[1, 2], [3, 4]], dtype='float32') # 可以通过设置dtype参数来指定数据类型"
   ],
   "metadata": {
    "collapsed": false,
    "ExecuteTime": {
     "end_time": "2025-02-22T02:55:59.804710Z",
     "start_time": "2025-02-22T02:55:59.789713Z"
    }
   },
   "id": "b837adb859c8d10b",
   "execution_count": 4
  },
  {
   "cell_type": "code",
   "outputs": [
    {
     "data": {
      "text/plain": "(array([[1., 2.],\n        [3., 4.]], dtype=float32),\n [1, '1'],\n list)"
     },
     "execution_count": 5,
     "metadata": {},
     "output_type": "execute_result"
    }
   ],
   "source": [
    "\"\"\"\n",
    "array.astype(str) 可以通过astype改变数据类型\n",
    "\"\"\"\n",
    "d = np.array([1, '1'], dtype='object')  # object类型相当于所有类型的父类\n",
    "b = b.astype('float32')  # 可以通过astype改变数据类型\n",
    "\n",
    "\"\"\"\n",
    "array.tolist() 转化为python中数组\n",
    "\"\"\"\n",
    "d = d.tolist() \n",
    "b, d, type(d)   # type(instance) 查看实例的类型"
   ],
   "metadata": {
    "collapsed": false,
    "ExecuteTime": {
     "end_time": "2025-02-22T02:59:32.846120Z",
     "start_time": "2025-02-22T02:59:32.833119Z"
    }
   },
   "id": "bbb172925aab09a7",
   "execution_count": 5
  },
  {
   "cell_type": "markdown",
   "source": [
    "### 其他创建数组的方法"
   ],
   "metadata": {
    "collapsed": false
   },
   "id": "6e0941f62bdae508"
  },
  {
   "cell_type": "code",
   "outputs": [
    {
     "data": {
      "text/plain": "(array([0, 1, 2, 3, 4, 5, 6, 7, 8, 9]), array([1, 3, 5, 7]))"
     },
     "execution_count": 6,
     "metadata": {},
     "output_type": "execute_result"
    }
   ],
   "source": [
    "\"\"\"\n",
    "np.arange() 类似于python中的range()方法\n",
    "\"\"\"\n",
    "np.arange(10), np.arange(1, 8, 2)"
   ],
   "metadata": {
    "collapsed": false,
    "ExecuteTime": {
     "end_time": "2025-02-22T03:02:55.576161Z",
     "start_time": "2025-02-22T03:02:55.560158Z"
    }
   },
   "id": "5987b32b9f3b71b6",
   "execution_count": 6
  },
  {
   "cell_type": "code",
   "outputs": [
    {
     "data": {
      "text/plain": "(array([1.  , 3.25, 5.5 , 7.75]), array([ 1.,  4.,  7., 10.]))"
     },
     "execution_count": 8,
     "metadata": {},
     "output_type": "execute_result"
    }
   ],
   "source": [
    "\"\"\"\n",
    "np.linspace() 等距生成数组\n",
    "endpoint=False 表示终值是否作为生成的元素\n",
    "\"\"\"\n",
    "np.linspace(1,10,4, endpoint=False), np.linspace(1,10,4, endpoint=True)"
   ],
   "metadata": {
    "collapsed": false,
    "ExecuteTime": {
     "end_time": "2025-02-22T03:05:31.531561Z",
     "start_time": "2025-02-22T03:05:31.523562Z"
    }
   },
   "id": "73e78b7890b32c42",
   "execution_count": 8
  },
  {
   "cell_type": "code",
   "outputs": [
    {
     "data": {
      "text/plain": "(array([[0., 0., 0., 0.],\n        [0., 0., 0., 0.],\n        [0., 0., 0., 0.]], dtype=float32),\n array([[[1, 1, 1, 1],\n         [1, 1, 1, 1],\n         [1, 1, 1, 1]],\n \n        [[1, 1, 1, 1],\n         [1, 1, 1, 1],\n         [1, 1, 1, 1]]], dtype=int8))"
     },
     "execution_count": 9,
     "metadata": {},
     "output_type": "execute_result"
    }
   ],
   "source": [
    "\"\"\"\n",
    "np.zeros(tuple)  创建指定维度的全0数组\n",
    "np.ones(tuple)   创建制定维度的全1数组\n",
    "\"\"\"\n",
    "np.zeros((3,4), dtype='float32'), np.ones((2,3,4), dtype='int8') # 创建一个3x4的全0数组，创建一个2x3x4的全1数组"
   ],
   "metadata": {
    "collapsed": false,
    "ExecuteTime": {
     "end_time": "2025-02-22T03:09:43.844582Z",
     "start_time": "2025-02-22T03:09:43.835582Z"
    }
   },
   "id": "1fe9637a876a62fb",
   "execution_count": 9
  },
  {
   "cell_type": "code",
   "outputs": [
    {
     "data": {
      "text/plain": "array([[2],\n       [2],\n       [2]])"
     },
     "execution_count": 10,
     "metadata": {},
     "output_type": "execute_result"
    }
   ],
   "source": [
    "\"\"\"\n",
    "np.full() 使用指定值来填充数组\n",
    "\"\"\"\n",
    "np.full((3, 1), 2) # 生成一个3x1的数组，每个元素都为2"
   ],
   "metadata": {
    "collapsed": false,
    "ExecuteTime": {
     "end_time": "2025-02-22T03:27:56.811023Z",
     "start_time": "2025-02-22T03:27:56.800023Z"
    }
   },
   "id": "1987b43580c1f247",
   "execution_count": 10
  },
  {
   "cell_type": "code",
   "outputs": [
    {
     "data": {
      "text/plain": "array([[1., 0., 0., 0.],\n       [0., 1., 0., 0.],\n       [0., 0., 1., 0.],\n       [0., 0., 0., 1.]], dtype=float32)"
     },
     "execution_count": 11,
     "metadata": {},
     "output_type": "execute_result"
    }
   ],
   "source": [
    "\"\"\"\n",
    "np.eye() 生成单位矩阵\n",
    "\"\"\"\n",
    "np.eye(4, 4, dtype='float32')"
   ],
   "metadata": {
    "collapsed": false,
    "ExecuteTime": {
     "end_time": "2025-02-22T03:29:07.673448Z",
     "start_time": "2025-02-22T03:29:07.662445Z"
    }
   },
   "id": "3f0bbfabdb8aad24",
   "execution_count": 11
  },
  {
   "cell_type": "code",
   "outputs": [
    {
     "data": {
      "text/plain": "(array([[ 0,  1,  2,  3],\n        [ 4,  5,  6,  7],\n        [ 8,  9, 10, 11]], dtype=int8),\n array([[1, 1, 1, 1],\n        [1, 1, 1, 1],\n        [1, 1, 1, 1]], dtype=int8),\n array([[3, 3, 3, 3],\n        [3, 3, 3, 3],\n        [3, 3, 3, 3]], dtype=int8))"
     },
     "execution_count": 13,
     "metadata": {},
     "output_type": "execute_result"
    }
   ],
   "source": [
    "\"\"\"\n",
    "array.reshape(tuple) 重新组合\n",
    "\"\"\"\n",
    "\n",
    "a = np.arange(12, dtype='int8').reshape((3, 4))\n",
    "# np.zeros_like(a)   np.full_like (a, val) np.ones_like(a)\n",
    "a, np.ones_like(a), np.full_like(a, 3)"
   ],
   "metadata": {
    "collapsed": false,
    "ExecuteTime": {
     "end_time": "2025-02-22T03:30:50.044881Z",
     "start_time": "2025-02-22T03:30:50.030884Z"
    }
   },
   "id": "4313493bc3e9fc8f",
   "execution_count": 13
  },
  {
   "cell_type": "code",
   "outputs": [
    {
     "name": "stdout",
     "output_type": "stream",
     "text": [
      "[  0   1   2 100   4]\n",
      "[0 1 2 3 4]\n",
      "[  0   1   2 100   4]\n"
     ]
    }
   ],
   "source": [
    "\"\"\"\n",
    "array.copy() 拷贝数组，有时候不能改变原数组\n",
    "\"\"\"\n",
    "a = np.arange(5)\n",
    "b = a\n",
    "b[3] = 100\n",
    "print(a)            # 此时a数组被改变了\n",
    "\n",
    "c = a.copy()\n",
    "c[3] = 3      # 使用copy创建的新数组不会影响原数组\n",
    "\n",
    "print(c)\n",
    "print(a)"
   ],
   "metadata": {
    "collapsed": false,
    "ExecuteTime": {
     "end_time": "2025-02-22T03:32:23.747039Z",
     "start_time": "2025-02-22T03:32:23.732039Z"
    }
   },
   "id": "7829dc9a59cbd49a",
   "execution_count": 15
  },
  {
   "cell_type": "markdown",
   "source": [
    "## 二、查看数组的一些属性"
   ],
   "metadata": {
    "collapsed": false
   },
   "id": "f0c6752c2f3d6524"
  },
  {
   "cell_type": "code",
   "outputs": [
    {
     "data": {
      "text/plain": "(array([[ 0,  1,  2,  3,  4],\n        [ 5,  6,  7,  8,  9],\n        [10, 11, 12, 13, 14]]),\n (3, 5),\n 2,\n dtype('int32'),\n 15,\n numpy.ndarray)"
     },
     "execution_count": 16,
     "metadata": {},
     "output_type": "execute_result"
    }
   ],
   "source": [
    "\"\"\"\n",
    "shape 查看形状\n",
    "ndim 查看维度\n",
    "dtype 查看元素的数据类型\n",
    "type(instance) 查看实例数据类型\n",
    "size: 查看元素的总个数\n",
    "\"\"\"\n",
    "a = np.arange(15).reshape((3, 5))\n",
    "a, a.shape,a.ndim,a.dtype,a.size, type(a)"
   ],
   "metadata": {
    "collapsed": false,
    "ExecuteTime": {
     "end_time": "2025-02-22T03:33:19.485334Z",
     "start_time": "2025-02-22T03:33:19.470334Z"
    }
   },
   "id": "b67702332ffd2eb6",
   "execution_count": 16
  },
  {
   "cell_type": "markdown",
   "source": [
    "## 三、修改数组中的元素"
   ],
   "metadata": {
    "collapsed": false
   },
   "id": "45a18def425721e8"
  },
  {
   "cell_type": "code",
   "outputs": [],
   "source": [],
   "metadata": {
    "collapsed": false
   },
   "id": "cda21abb6a1f5922"
  }
 ],
 "metadata": {
  "kernelspec": {
   "display_name": "Python 3",
   "language": "python",
   "name": "python3"
  },
  "language_info": {
   "codemirror_mode": {
    "name": "ipython",
    "version": 2
   },
   "file_extension": ".py",
   "mimetype": "text/x-python",
   "name": "python",
   "nbconvert_exporter": "python",
   "pygments_lexer": "ipython2",
   "version": "2.7.6"
  }
 },
 "nbformat": 4,
 "nbformat_minor": 5
}
